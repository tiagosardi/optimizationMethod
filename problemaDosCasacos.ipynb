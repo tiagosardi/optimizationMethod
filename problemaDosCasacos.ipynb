{
  "nbformat": 4,
  "nbformat_minor": 0,
  "metadata": {
    "colab": {
      "name": "problemaDosCasacos.ipynb",
      "provenance": [],
      "authorship_tag": "ABX9TyMQkaFS7QxrUnOdZ6PFkbxy",
      "include_colab_link": true
    },
    "kernelspec": {
      "name": "python3",
      "display_name": "Python 3"
    },
    "language_info": {
      "name": "python"
    }
  },
  "cells": [
    {
      "cell_type": "markdown",
      "metadata": {
        "id": "view-in-github",
        "colab_type": "text"
      },
      "source": [
        "<a href=\"https://colab.research.google.com/github/tiagosardi/optimizationMethod/blob/main/problemaDosCasacos.ipynb\" target=\"_parent\"><img src=\"https://colab.research.google.com/assets/colab-badge.svg\" alt=\"Open In Colab\"/></a>"
      ]
    },
    {
      "cell_type": "markdown",
      "metadata": {
        "id": "eRQjzvuJr6HZ"
      },
      "source": [
        "# Resolvendo o problema dos casacos utilizando Python MIP\n",
        "\n",
        "min $\\sum_{1}^{2}\\sum_{1}^{4}$ Cij * Xij \n",
        "\n",
        "s.t \n",
        "\n",
        "$\\sum_{1}^{4}x1j$ = 6000\n",
        "\n",
        "$\\sum_{1}^{4}x2j$ = 9000\n",
        "\n",
        "$\\sum_{1}^{2}xi1$ <= 2500\n",
        "\n",
        "$\\sum_{1}^{2}xi2$ <= 4500\n",
        "\n",
        "$\\sum_{1}^{2}xi3$ <= 5500\n",
        "\n",
        "$\\sum_{1}^{2}xi4$ <= 3500\n",
        "\n",
        "x14 = 0\n",
        "\n",
        "x21 = 0\n",
        "\n",
        "xij >= 0\n",
        "\n",
        "Xij $\\in {Z}$"
      ]
    },
    {
      "cell_type": "code",
      "metadata": {
        "colab": {
          "base_uri": "https://localhost:8080/"
        },
        "id": "itzRkiROvJXb",
        "outputId": "918e0f36-f2f8-40f9-8253-b463da94c3fe"
      },
      "source": [
        "!pip install mip"
      ],
      "execution_count": 33,
      "outputs": [
        {
          "output_type": "stream",
          "text": [
            "Requirement already satisfied: mip in /usr/local/lib/python3.7/dist-packages (1.13.0)\n",
            "Requirement already satisfied: cffi in /usr/local/lib/python3.7/dist-packages (from mip) (1.14.6)\n",
            "Requirement already satisfied: pycparser in /usr/local/lib/python3.7/dist-packages (from cffi->mip) (2.20)\n"
          ],
          "name": "stdout"
        }
      ]
    },
    {
      "cell_type": "code",
      "metadata": {
        "id": "nc_YggaHvQU4"
      },
      "source": [
        "from mip import Model, xsum, INTEGER, MINIMIZE\n",
        "import numpy as np\n"
      ],
      "execution_count": 34,
      "outputs": []
    },
    {
      "cell_type": "markdown",
      "metadata": {
        "id": "JcZL1nifviCS"
      },
      "source": [
        "Primeiro precisamos definir os dados para o problema"
      ]
    },
    {
      "cell_type": "code",
      "metadata": {
        "colab": {
          "base_uri": "https://localhost:8080/"
        },
        "id": "YkFEe5KyveBJ",
        "outputId": "1dd04fb4-7ac3-4445-8589-ee43cd38f960"
      },
      "source": [
        "#Dados\n",
        "\n",
        "c = [[40,50,55,np.inf],[np.inf, 60,30,50]]\n",
        "c"
      ],
      "execution_count": 35,
      "outputs": [
        {
          "output_type": "execute_result",
          "data": {
            "text/plain": [
              "[[40, 50, 55, inf], [inf, 60, 30, 50]]"
            ]
          },
          "metadata": {},
          "execution_count": 35
        }
      ]
    },
    {
      "cell_type": "markdown",
      "metadata": {
        "id": "BLLOEGr8v4uX"
      },
      "source": [
        "O modelo é uma estrutura de dados que vai armazenar as informações do problema: Variáveis, objetivos e restrições, neste caso."
      ]
    },
    {
      "cell_type": "code",
      "metadata": {
        "id": "r8epU3EMvy-L"
      },
      "source": [
        "#Model\n",
        "\n",
        "m = Model('Casacos', sense=MINIMIZE) #no sense eu defino que vamos resolver um problema de minimização"
      ],
      "execution_count": 36,
      "outputs": []
    },
    {
      "cell_type": "markdown",
      "metadata": {
        "id": "hHbYQ1iKwV1Q"
      },
      "source": [
        "Próximo passo é definir as variáveis"
      ]
    },
    {
      "cell_type": "code",
      "metadata": {
        "id": "6MSPXsGPwShr"
      },
      "source": [
        "#Variáveis\n",
        "\n",
        "x=[]\n",
        "\n",
        "for i in range(2):\n",
        "  row = []\n",
        "  for j in range(4):\n",
        "    row.append(m.add_var(var_type=INTEGER, lb=0)) # add_var adiciona uma variavel para m | lb=0 diz que zero é o valor mínimo possível\n",
        "  x.append(row)"
      ],
      "execution_count": 37,
      "outputs": []
    },
    {
      "cell_type": "code",
      "metadata": {
        "colab": {
          "base_uri": "https://localhost:8080/"
        },
        "id": "aRrDhYG_xH35",
        "outputId": "ec6817e4-00ed-4da3-8961-a3fcb76fd571"
      },
      "source": [
        "x\n"
      ],
      "execution_count": 38,
      "outputs": [
        {
          "output_type": "execute_result",
          "data": {
            "text/plain": [
              "[[<mip.entities.Var at 0x7ff198111350>,\n",
              "  <mip.entities.Var at 0x7ff198111b10>,\n",
              "  <mip.entities.Var at 0x7ff198111b50>,\n",
              "  <mip.entities.Var at 0x7ff198111310>],\n",
              " [<mip.entities.Var at 0x7ff198111910>,\n",
              "  <mip.entities.Var at 0x7ff198111710>,\n",
              "  <mip.entities.Var at 0x7ff198111ed0>,\n",
              "  <mip.entities.Var at 0x7ff198111f50>]]"
            ]
          },
          "metadata": {},
          "execution_count": 38
        }
      ]
    },
    {
      "cell_type": "code",
      "metadata": {
        "id": "5Oqcn-2yxKVe"
      },
      "source": [
        "m.objective = xsum(c[i][j]*x[i][j] for i in range(2) for j in range(4))"
      ],
      "execution_count": 39,
      "outputs": []
    },
    {
      "cell_type": "markdown",
      "metadata": {
        "id": "FgtLT_g6yw3b"
      },
      "source": [
        "Restrições"
      ]
    },
    {
      "cell_type": "code",
      "metadata": {
        "id": "KB7ymrBTxQC4"
      },
      "source": [
        "m += x[0][3]==0\n",
        "m += x[1][0]==0\n",
        "m += xsum(x[0][j] for j in range(4)) == 6000\n",
        "m += xsum(x[1][j] for j in range(4)) == 9000\n",
        "\n",
        "m += x[0][0] <= 2500\n",
        "m += x[1][3] <= 3500\n",
        "\n",
        "m += xsum(x[i][1] for i in range(2)) <= 4500\n",
        "m += xsum(x[i][2] for i in range(2)) <= 5500\n"
      ],
      "execution_count": 42,
      "outputs": []
    },
    {
      "cell_type": "code",
      "metadata": {
        "colab": {
          "base_uri": "https://localhost:8080/"
        },
        "id": "ODhwXEas0qSN",
        "outputId": "e8e51612-a595-4806-bcfd-7eef0b557d6f"
      },
      "source": [
        "m.optimize()"
      ],
      "execution_count": 43,
      "outputs": [
        {
          "output_type": "execute_result",
          "data": {
            "text/plain": [
              "<OptimizationStatus.INFEASIBLE: 1>"
            ]
          },
          "metadata": {},
          "execution_count": 43
        }
      ]
    },
    {
      "cell_type": "code",
      "metadata": {
        "colab": {
          "base_uri": "https://localhost:8080/"
        },
        "id": "vEZ2K9kY1nFj",
        "outputId": "6f447ca3-0dad-4748-d5a0-7ad7c7f07144"
      },
      "source": [
        "#Solução print\n",
        "\n",
        "\n",
        "print('x[{}][{}] = {}'.format(i,j,x[i][j].x) for i in range(2) for j in range(4))\n"
      ],
      "execution_count": 41,
      "outputs": [
        {
          "output_type": "stream",
          "text": [
            "<generator object <genexpr> at 0x7ff19804aa50>\n"
          ],
          "name": "stdout"
        }
      ]
    },
    {
      "cell_type": "code",
      "metadata": {
        "id": "ktWGKXzy4AE6"
      },
      "source": [
        ""
      ],
      "execution_count": 41,
      "outputs": []
    }
  ]
}