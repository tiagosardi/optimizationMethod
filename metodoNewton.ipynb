{
  "nbformat": 4,
  "nbformat_minor": 0,
  "metadata": {
    "colab": {
      "name": "metodoNewton.ipynb",
      "provenance": [],
      "authorship_tag": "ABX9TyOinGHT/yeHzwnc2ApyMqIs",
      "include_colab_link": true
    },
    "kernelspec": {
      "name": "python3",
      "display_name": "Python 3"
    },
    "language_info": {
      "name": "python"
    }
  },
  "cells": [
    {
      "cell_type": "markdown",
      "metadata": {
        "id": "view-in-github",
        "colab_type": "text"
      },
      "source": [
        "<a href=\"https://colab.research.google.com/github/tiagosardi/optimizationMethod/blob/main/metodoNewton.ipynb\" target=\"_parent\"><img src=\"https://colab.research.google.com/assets/colab-badge.svg\" alt=\"Open In Colab\"/></a>"
      ]
    },
    {
      "cell_type": "markdown",
      "metadata": {
        "id": "mbuWOQ4ZqyW9"
      },
      "source": [
        "<script src='https://cdnjs.cloudflare.com/ajax/libs/mathjax/2.7.5/MathJax.js?config=TeX-MML-AM_CHTML' async></script>\n",
        "\n",
        "\n",
        "Para situações em que o valor do gradiente não exista, vamos estimar o valor do gradiente aplicando: \n",
        "$$\n",
        "\\lim_{delta \\to 0} \\frac{f(x+delta)-f(x)}{delta}\n",
        "$$\n",
        "\n",
        "Onde estimaremos numa aproximação curta do valor real do gradiente.\n"
      ]
    },
    {
      "cell_type": "markdown",
      "metadata": {
        "id": "Ie0gmxnqqvVS"
      },
      "source": [
        ""
      ]
    }
  ]
}