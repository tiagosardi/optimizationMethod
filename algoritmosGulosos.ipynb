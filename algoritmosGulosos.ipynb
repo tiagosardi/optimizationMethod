{
  "nbformat": 4,
  "nbformat_minor": 0,
  "metadata": {
    "colab": {
      "name": "algoritmosGulosos.ipynb",
      "provenance": [],
      "toc_visible": true,
      "authorship_tag": "ABX9TyOKBggJt35YXoFfuczGO5/h",
      "include_colab_link": true
    },
    "kernelspec": {
      "name": "python3",
      "display_name": "Python 3"
    },
    "language_info": {
      "name": "python"
    },
    "accelerator": "GPU"
  },
  "cells": [
    {
      "cell_type": "markdown",
      "metadata": {
        "id": "view-in-github",
        "colab_type": "text"
      },
      "source": [
        "<a href=\"https://colab.research.google.com/github/tiagosardi/optimizationMethod/blob/main/algoritmosGulosos.ipynb\" target=\"_parent\"><img src=\"https://colab.research.google.com/assets/colab-badge.svg\" alt=\"Open In Colab\"/></a>"
      ]
    },
    {
      "cell_type": "code",
      "metadata": {
        "id": "CTR67v_j1RbX",
        "colab": {
          "base_uri": "https://localhost:8080/"
        },
        "outputId": "7f069426-3324-4b7e-8c6c-18a014274c00"
      },
      "source": [
        "!git clone https://github.com/tiagosardi/optimizationMethod.git\n",
        "#import sys\n",
        "#sys.path.append('/content/optimizationMethod/')\n"
      ],
      "execution_count": 16,
      "outputs": [
        {
          "output_type": "stream",
          "text": [
            "Cloning into 'optimizationMethod'...\n",
            "remote: Enumerating objects: 52, done.\u001b[K\n",
            "remote: Counting objects: 100% (52/52), done.\u001b[K\n",
            "remote: Compressing objects: 100% (47/47), done.\u001b[K\n",
            "remote: Total 52 (delta 24), reused 14 (delta 4), pack-reused 0\u001b[K\n",
            "Unpacking objects: 100% (52/52), done.\n"
          ],
          "name": "stdout"
        }
      ]
    },
    {
      "cell_type": "markdown",
      "metadata": {
        "id": "BGuk3bOwQCoz"
      },
      "source": [
        "#Configuração de um problema"
      ]
    },
    {
      "cell_type": "code",
      "metadata": {
        "colab": {
          "base_uri": "https://localhost:8080/",
          "height": 265
        },
        "id": "7aQ8pQ-GQU6L",
        "outputId": "ce9732cb-6029-4043-fcee-19f90f47b33d"
      },
      "source": [
        "\n",
        "n = 15\n",
        "points = np.random.rand(n,2)\n",
        "\n",
        "for p in points:\n",
        "  plt.plot(p[0],p[1],'bo')"
      ],
      "execution_count": 45,
      "outputs": [
        {
          "output_type": "display_data",
          "data": {
            "image/png": "[encoded data removed]",
            "text/plain": [
              "<Figure size 432x288 with 1 Axes>"
            ]
          },
          "metadata": {
            "needs_background": "light"
          }
        }
      ]
    },
    {
      "cell_type": "code",
      "metadata": {
        "id": "ubPCw0YyQXt9"
      },
      "source": [
        "dist_matrix = [[np.linalg.norm(np.array(p1)-np.array(p2)) for p1 in points] for p2 in points]\n"
      ],
      "execution_count": 46,
      "outputs": []
    },
    {
      "cell_type": "code",
      "metadata": {
        "id": "h-7hf2rsQZxr"
      },
      "source": [
        "n = len(points)\n",
        "V = set(range(len(points)))"
      ],
      "execution_count": null,
      "outputs": []
    },
    {
      "cell_type": "markdown",
      "metadata": {
        "id": "sUqAe1WPQeEV"
      },
      "source": [
        "#Python MIP"
      ]
    },
    {
      "cell_type": "code",
      "metadata": {
        "id": "Awb4lybMQbZa"
      },
      "source": [
        "model = Model()\n"
      ],
      "execution_count": 47,
      "outputs": []
    },
    {
      "cell_type": "code",
      "metadata": {
        "id": "d2OY083XQi57"
      },
      "source": [
        "x = [[model.add_var(var_type=BINARY) for j in V] for i in V]\n",
        "y = [model.add_var(var_type=INTEGER,lb=1,ub=n-1) for i in V]"
      ],
      "execution_count": 48,
      "outputs": []
    },
    {
      "cell_type": "code",
      "metadata": {
        "id": "E03CQQacQkFa"
      },
      "source": [
        "model.objective = minimize(xsum(dist_matrix[i][j]*x[i][j] for i in V for j in V))\n"
      ],
      "execution_count": 49,
      "outputs": []
    },
    {
      "cell_type": "code",
      "metadata": {
        "id": "urGT9SbYQkSa"
      },
      "source": [
        "for i in V:\n",
        "  model += xsum(x[i][j] for j in V - {i}) == 1 \n",
        "\n",
        "for j in V:\n",
        "  model += xsum(x[i][j] for i in V - {j}) == 1 \n",
        "\n",
        "for (i, j) in product(V - {0}, V - {0}):\n",
        "  if i!=j:\n",
        "    model += y[i] - y[j] + (n+1)*x[i][j] <= n"
      ],
      "execution_count": 50,
      "outputs": []
    },
    {
      "cell_type": "code",
      "metadata": {
        "colab": {
          "base_uri": "https://localhost:8080/"
        },
        "id": "BG7i9SCnQkey",
        "outputId": "653a58b6-c458-4eff-c909-c96cef11e54d"
      },
      "source": [
        "model.optimize()\n",
        "model.objective_value"
      ],
      "execution_count": 51,
      "outputs": [
        {
          "output_type": "execute_result",
          "data": {
            "text/plain": [
              "2.947699420976843"
            ]
          },
          "metadata": {},
          "execution_count": 51
        }
      ]
    },
    {
      "cell_type": "code",
      "metadata": {
        "colab": {
          "base_uri": "https://localhost:8080/"
        },
        "id": "QUA5qamQQpzT",
        "outputId": "94915656-b3a0-45fa-ce90-372e013df577"
      },
      "source": [
        "for row in x:\n",
        "  vals = [e.x for e in row]\n",
        "  print(vals)"
      ],
      "execution_count": 52,
      "outputs": [
        {
          "output_type": "stream",
          "text": [
            "[0.0, 0.0, 0.0, 1.0, 0.0, 0.0, 0.0, 0.0, 0.0, 0.0, 0.0, 0.0, 0.0, 0.0, 0.0]\n",
            "[0.0, 0.0, 0.0, 0.0, 0.0, 1.0, 0.0, 0.0, 0.0, 0.0, 0.0, 0.0, 0.0, 0.0, 0.0]\n",
            "[0.0, 0.0, 0.0, 0.0, 0.0, 0.0, 0.0, 0.0, 0.0, 0.0, 0.0, 0.0, 1.0, 0.0, 0.0]\n",
            "[0.0, 0.0, 0.0, 0.0, 0.0, 0.0, 0.0, 0.0, 0.0, 0.0, 0.0, 0.0, 0.0, 0.0, 1.0]\n",
            "[0.0, 0.0, 0.0, 0.0, 0.0, 0.0, 1.0, 0.0, 0.0, 0.0, 0.0, 0.0, 0.0, 0.0, 0.0]\n",
            "[0.0, 0.0, 0.0, 0.0, 0.0, 0.0, 0.0, 0.0, 1.0, 0.0, 0.0, 0.0, 0.0, 0.0, 0.0]\n",
            "[0.0, 0.0, 0.0, 0.0, 0.0, 0.0, 0.0, 0.0, 0.0, 0.0, 1.0, 0.0, 0.0, 0.0, 0.0]\n",
            "[0.0, 0.0, 0.0, 0.0, 0.0, 0.0, 0.0, 0.0, 0.0, 0.0, 0.0, 0.0, 0.0, 1.0, 0.0]\n",
            "[0.0, 0.0, 0.0, 0.0, 0.0, 0.0, 0.0, 0.0, 0.0, 1.0, 0.0, 0.0, 0.0, 0.0, 0.0]\n",
            "[1.0, 0.0, 0.0, 0.0, 0.0, 0.0, 0.0, 0.0, 0.0, 0.0, 0.0, 0.0, 0.0, 0.0, 0.0]\n",
            "[0.0, 0.0, 0.0, 0.0, 0.0, 0.0, 0.0, 1.0, 0.0, 0.0, 0.0, 0.0, 0.0, 0.0, 0.0]\n",
            "[0.0, 1.0, 0.0, 0.0, 0.0, 0.0, 0.0, 0.0, 0.0, 0.0, 0.0, 0.0, 0.0, 0.0, 0.0]\n",
            "[0.0, 0.0, 0.0, 0.0, 0.0, 0.0, 0.0, 0.0, 0.0, 0.0, 0.0, 1.0, 0.0, 0.0, 0.0]\n",
            "[0.0, 0.0, 1.0, 0.0, 0.0, 0.0, 0.0, 0.0, 0.0, 0.0, 0.0, 0.0, 0.0, 0.0, 0.0]\n",
            "[0.0, 0.0, 0.0, 0.0, 1.0, 0.0, 0.0, 0.0, 0.0, 0.0, 0.0, 0.0, 0.0, 0.0, 0.0]\n"
          ],
          "name": "stdout"
        }
      ]
    },
    {
      "cell_type": "code",
      "metadata": {
        "colab": {
          "base_uri": "https://localhost:8080/",
          "height": 265
        },
        "id": "Jr35U_CDQqA_",
        "outputId": "dd9eceee-5284-4d76-c1a3-6783142b694e"
      },
      "source": [
        "for i in range(len(x)):\n",
        "  for j in range(len(x)):\n",
        "    if x[i][j].x == 1:\n",
        "      plt.plot([points[i][0],points[j][0]],[points[i][1],points[j][1]],'bo-')"
      ],
      "execution_count": 53,
      "outputs": [
        {
          "output_type": "display_data",
          "data": {
            "image/png": "[encoded data removed]",
            "text/plain": [
              "<Figure size 432x288 with 1 Axes>"
            ]
          },
          "metadata": {
            "needs_background": "light"
          }
        }
      ]
    },
    {
      "cell_type": "code",
      "metadata": {
        "id": "VJcaJ_uYQqQh"
      },
      "source": [
        ""
      ],
      "execution_count": null,
      "outputs": []
    },
    {
      "cell_type": "markdown",
      "metadata": {
        "id": "ix8tV8MI1WLs"
      },
      "source": [
        "Na busca exaustiva ele gera todas as buscas possíveis e fica com a melhor. A vantagem da busca exaustiva, a gente garante que estamos na melhor solução. A desvantagem está no custo. Outra vantagem é a simplicidade (resolvemos o caixeiro viajante com busca exaustiva pois resolvemos com permutação, sem ciclos e sem restrição), então para problemas pequenos pode ser mais útil usar busca exaustiva. O problema é quando a instância vai crescendo e a busca exaustiva vai se distanciando do modelo mais adequado.\n",
        "\n",
        "Vamos usar métodos heurísticos desta vez. Heurística é um procedimento aproximado. Não tem garantia de encontrar o ótimo, mas encontraremos uma solução boa com mais rapidez. Existem dois tipos básicos de heurísticas: As construtivas e a heurísticas de refinamento.\n",
        "\n",
        "As construtivas servem pra gente construir uma solução boa. A rota inicial tem que ser melhor que a aleatória.\n",
        "\n",
        "Na heuristica de refinamento, nós refinamos uma solução que já temos. \n",
        "ENtão combinaremos os dois tipos. Primeiro vamos usar a construtiva e depois refinamento.\n",
        "\n",
        "A heuristica construtiva mais comum é o algoritmo guloso.\n",
        "\n",
        "Precisamos primeiro definir a gula desse algoritmo usando uma função h:$\\mathbb{Z}$ -> R (a funçao mapeia numeros inteiros num numero real)\n",
        "\n",
        "Cada iteração o algoritmo escolhe um elemento pra adicionar a solução que tem o maior valor dessa heuristica possível.\n",
        "ENtão temos o método heuristico e a função heurística.\n",
        "A funçao vai definir qual a fome desse algoritmo. \n",
        "\n",
        "O PROBLEMA DA MOCHILA:\n",
        "(Knapsack problem)\n",
        "\n",
        "Nós temos um conjunto de itens I e para cada item nós temos um lucro P (profit) e temos um peso W (weight). \n",
        "Cada item que colocamos na mochila, traz um lucro ao ser vendido. Os itens tem pesos e a mochila tem um limite de peso, onde C é a capacidade da mochila.\n",
        "Precisamos maximizar o lucro e manter a capacidade.\n",
        "Vamos modelar esse problema como um problema de programação linear:\n",
        "\n",
        "Temos um vetor de pesos $\\bar{P}$ = [40,35,18,4,10,2] e um vetor de pesos $\\bar{W}$ = [100,50,45,20,10,5].\n",
        "Agora, para formular como problema de programação linear, vamos olhar para as variáveis que existem no problema. Não podemos mudar o peso dos itens, mas variamos em quais itens poderemos pegar:\n",
        "\n",
        "$ Xi \\in{\\{0,1\\}}$ -> indica se o item i está na mochila.\n",
        "\n",
        "$\\bar{x} = [0,0,1,0,1,0]$ Temos 6 itens, então um vetor com 6 posições, onde colocamos os itens 2 e 4 na mochila e os demais não foram adicionados a mochila.\n",
        "\n",
        "$$ max \\Sigma{Xi * Pi} $$\n",
        "$$ \\Sigma{Xi*Wi} <= C$$\n",
        "$$ Xi \\in{\\{0,1\\}} $$\n",
        "\n",
        "Resolvendo com o Python MIP"
      ]
    },
    {
      "cell_type": "code",
      "metadata": {
        "id": "tYrO4xbI9Ag8",
        "colab": {
          "base_uri": "https://localhost:8080/"
        },
        "outputId": "fde916af-8072-4d18-a068-387d40a32eba"
      },
      "source": [
        "!pip install mip"
      ],
      "execution_count": 59,
      "outputs": [
        {
          "output_type": "stream",
          "text": [
            "Requirement already satisfied: mip in /usr/local/lib/python3.7/dist-packages (1.13.0)\n",
            "Requirement already satisfied: cffi in /usr/local/lib/python3.7/dist-packages (from mip) (1.14.6)\n",
            "Requirement already satisfied: pycparser in /usr/local/lib/python3.7/dist-packages (from cffi->mip) (2.20)\n"
          ],
          "name": "stdout"
        }
      ]
    },
    {
      "cell_type": "code",
      "metadata": {
        "id": "xRcgrG9k6dqN"
      },
      "source": [
        "import numpy as np\n",
        "import matplotlib.pyplot as plt\n",
        "from mip import Model, xsum, maximize, minimize, BINARY, INTEGER\n",
        "from itertools import product\n",
        "from sys import stdout as out"
      ],
      "execution_count": 60,
      "outputs": []
    },
    {
      "cell_type": "code",
      "metadata": {
        "id": "rpzuqHm99Cu5"
      },
      "source": [
        "p = [45,35,18,4,10,2]\n",
        "w = [100,50,45,20,10,5]\n",
        "c = 100\n",
        "n = len(p)"
      ],
      "execution_count": 61,
      "outputs": []
    },
    {
      "cell_type": "code",
      "metadata": {
        "id": "RB_kywgq9VMx"
      },
      "source": [
        "# vamos definir o modelo\n",
        "m = Model('Knapsack')\n"
      ],
      "execution_count": 62,
      "outputs": []
    },
    {
      "cell_type": "code",
      "metadata": {
        "id": "Ds55epAC9fVp"
      },
      "source": [
        "# para definir a funcao objetivo, precisamos das variaveis\n",
        "x = [m.add_var(var_type=BINARY) for i in range(n)] # as variaveis tem tipo binario\n",
        "\n",
        "#funcao objetivo\n",
        "m.objective= maximize(xsum(x[i]*p[i] for i in range(n)))\n",
        "\n",
        "#a unica restricao que temos\n",
        "m += xsum(x[i] *w[i] for i in range(n)) <= c\n"
      ],
      "execution_count": 63,
      "outputs": []
    },
    {
      "cell_type": "code",
      "metadata": {
        "id": "51CLVyYA-Oba",
        "colab": {
          "base_uri": "https://localhost:8080/"
        },
        "outputId": "0400ba91-3b62-476a-ad7f-746f788a19fc"
      },
      "source": [
        "m.optimize() #otimiza e busca pela solucao otima"
      ],
      "execution_count": 64,
      "outputs": [
        {
          "output_type": "execute_result",
          "data": {
            "text/plain": [
              "<OptimizationStatus.OPTIMAL: 0>"
            ]
          },
          "metadata": {},
          "execution_count": 64
        }
      ]
    },
    {
      "cell_type": "markdown",
      "metadata": {
        "id": "6ziJdC0nH3i4"
      },
      "source": [
        "A python mip usa um método que não tem precisão infinita, então resolve com uma determinada precisão para o ótimo.\n"
      ]
    },
    {
      "cell_type": "code",
      "metadata": {
        "id": "nvDIvgMDIki2",
        "colab": {
          "base_uri": "https://localhost:8080/"
        },
        "outputId": "29578ca9-805e-4cc7-9be7-463c99fc0092"
      },
      "source": [
        "print([x[i].x for i in range(n)])"
      ],
      "execution_count": 65,
      "outputs": [
        {
          "output_type": "stream",
          "text": [
            "[0.0, 1.0, 1.0, 0.0, 0.0, 1.0]\n"
          ],
          "name": "stdout"
        }
      ]
    },
    {
      "cell_type": "code",
      "metadata": {
        "id": "Rm61kJ3tH6CX",
        "colab": {
          "base_uri": "https://localhost:8080/"
        },
        "outputId": "67ca737f-3886-450e-d56e-1025313c52f8"
      },
      "source": [
        "#os itens que ele selecionou sao os itens que tem valor >=.99 \n",
        "# serve para resolver o problema da precisao da python mip para colocar valores reais\n",
        "\n",
        "selected = [i for i in range(n) if x[i].x >= .99]\n",
        "selected"
      ],
      "execution_count": 66,
      "outputs": [
        {
          "output_type": "execute_result",
          "data": {
            "text/plain": [
              "[1, 2, 5]"
            ]
          },
          "metadata": {},
          "execution_count": 66
        }
      ]
    },
    {
      "cell_type": "markdown",
      "metadata": {
        "id": "fepPuCtWI5TF"
      },
      "source": [
        "[1,2,5] é a solução ótima desse problema. \n",
        "\n",
        "Podemos resolver esse problema utilizando força bruta também (ver brute force no meu github).\n",
        "\n",
        "Para adicionar a restrição nesse caso, podemos fazer com que valores que infrinjam a restrição, se tornem as piores soluções, a assim possam ser ignoradas.\n",
        "\n"
      ]
    },
    {
      "cell_type": "code",
      "metadata": {
        "id": "xlhVRSD0HqdF"
      },
      "source": [
        "\n",
        "\n",
        "def brute_force(fobj,n,m,partial_solution=[], best_solution=[], best_val=np.inf, print_sol=False):\n",
        "  #np.inf = infinito\n",
        "  \n",
        "  \n",
        "  #comeca com criterio de parada\n",
        "  if len(partial_solution) ==n:\n",
        "    fx = fobj(partial_solution) #coloquei o valor da ultima variavel em fx\n",
        "    if print_sol:\n",
        "      print('{} : {}'.format(partial_solution, fx))\n",
        "    if fx <=best_val:\n",
        "      best_solution = partial_solution\n",
        "      best_val = fx\n",
        "    return best_solution, best_val\n",
        "  else:\n",
        "    for e in set(np.arange(m)): #transforma em conjunto a partir do set para usar operacoes de conjuntos e descontar as repeticoes, tornando o algoritmo em permutacao\n",
        "      best_sol, best_val = brute_force(fobj,n,m,partial_solution + [e], \n",
        "                  best_solution, \n",
        "                  best_val,\n",
        "                  print_sol)\n",
        "    return best_sol, best_val\n"
      ],
      "execution_count": 67,
      "outputs": []
    },
    {
      "cell_type": "code",
      "metadata": {
        "id": "cqGZiZqVTA6X",
        "colab": {
          "base_uri": "https://localhost:8080/"
        },
        "outputId": "5e4c8832-5ee7-422f-f9e6-ca4c8a19b890"
      },
      "source": [
        "#se nao entrar em nenhuma condicao, entao vai lançar no infinito. Isso fará que condições que violem as restrições, sempre percam, indo para infinito\n",
        "#repare que uso -np.sum para utilizar como maximizacao, ja que o metodo usado é para minimizacao\n",
        "fobj = lambda x: -np.sum([x[i]*p[i] for i in range(n)]) if np.sum([x[i]*w[i] for i in range(n)]) <= c else np.inf\n",
        "best_solution,best_val = brute_force(fobj,n,2,print_sol=True)\n"
      ],
      "execution_count": 68,
      "outputs": [
        {
          "output_type": "stream",
          "text": [
            "[0, 0, 0, 0, 0, 0] : 0\n",
            "[0, 0, 0, 0, 0, 1] : -2\n",
            "[0, 0, 0, 0, 1, 0] : -10\n",
            "[0, 0, 0, 0, 1, 1] : -12\n",
            "[0, 0, 0, 1, 0, 0] : -4\n",
            "[0, 0, 0, 1, 0, 1] : -6\n",
            "[0, 0, 0, 1, 1, 0] : -14\n",
            "[0, 0, 0, 1, 1, 1] : -16\n",
            "[0, 0, 1, 0, 0, 0] : -18\n",
            "[0, 0, 1, 0, 0, 1] : -20\n",
            "[0, 0, 1, 0, 1, 0] : -28\n",
            "[0, 0, 1, 0, 1, 1] : -30\n",
            "[0, 0, 1, 1, 0, 0] : -22\n",
            "[0, 0, 1, 1, 0, 1] : -24\n",
            "[0, 0, 1, 1, 1, 0] : -32\n",
            "[0, 0, 1, 1, 1, 1] : -34\n",
            "[0, 1, 0, 0, 0, 0] : -35\n",
            "[0, 1, 0, 0, 0, 1] : -37\n",
            "[0, 1, 0, 0, 1, 0] : -45\n",
            "[0, 1, 0, 0, 1, 1] : -47\n",
            "[0, 1, 0, 1, 0, 0] : -39\n",
            "[0, 1, 0, 1, 0, 1] : -41\n",
            "[0, 1, 0, 1, 1, 0] : -49\n",
            "[0, 1, 0, 1, 1, 1] : -51\n",
            "[0, 1, 1, 0, 0, 0] : -53\n",
            "[0, 1, 1, 0, 0, 1] : -55\n",
            "[0, 1, 1, 0, 1, 0] : inf\n",
            "[0, 1, 1, 0, 1, 1] : inf\n",
            "[0, 1, 1, 1, 0, 0] : inf\n",
            "[0, 1, 1, 1, 0, 1] : inf\n",
            "[0, 1, 1, 1, 1, 0] : inf\n",
            "[0, 1, 1, 1, 1, 1] : inf\n",
            "[1, 0, 0, 0, 0, 0] : -45\n",
            "[1, 0, 0, 0, 0, 1] : inf\n",
            "[1, 0, 0, 0, 1, 0] : inf\n",
            "[1, 0, 0, 0, 1, 1] : inf\n",
            "[1, 0, 0, 1, 0, 0] : inf\n",
            "[1, 0, 0, 1, 0, 1] : inf\n",
            "[1, 0, 0, 1, 1, 0] : inf\n",
            "[1, 0, 0, 1, 1, 1] : inf\n",
            "[1, 0, 1, 0, 0, 0] : inf\n",
            "[1, 0, 1, 0, 0, 1] : inf\n",
            "[1, 0, 1, 0, 1, 0] : inf\n",
            "[1, 0, 1, 0, 1, 1] : inf\n",
            "[1, 0, 1, 1, 0, 0] : inf\n",
            "[1, 0, 1, 1, 0, 1] : inf\n",
            "[1, 0, 1, 1, 1, 0] : inf\n",
            "[1, 0, 1, 1, 1, 1] : inf\n",
            "[1, 1, 0, 0, 0, 0] : inf\n",
            "[1, 1, 0, 0, 0, 1] : inf\n",
            "[1, 1, 0, 0, 1, 0] : inf\n",
            "[1, 1, 0, 0, 1, 1] : inf\n",
            "[1, 1, 0, 1, 0, 0] : inf\n",
            "[1, 1, 0, 1, 0, 1] : inf\n",
            "[1, 1, 0, 1, 1, 0] : inf\n",
            "[1, 1, 0, 1, 1, 1] : inf\n",
            "[1, 1, 1, 0, 0, 0] : inf\n",
            "[1, 1, 1, 0, 0, 1] : inf\n",
            "[1, 1, 1, 0, 1, 0] : inf\n",
            "[1, 1, 1, 0, 1, 1] : inf\n",
            "[1, 1, 1, 1, 0, 0] : inf\n",
            "[1, 1, 1, 1, 0, 1] : inf\n",
            "[1, 1, 1, 1, 1, 0] : inf\n",
            "[1, 1, 1, 1, 1, 1] : inf\n"
          ],
          "name": "stdout"
        }
      ]
    },
    {
      "cell_type": "code",
      "metadata": {
        "id": "sbZ4-xwXUbgv",
        "colab": {
          "base_uri": "https://localhost:8080/"
        },
        "outputId": "48533b07-d8fc-4f80-a95d-0427152a8b9f"
      },
      "source": [
        "best_solution, best_val\n",
        "#a melhor solução tem o lucro de 55"
      ],
      "execution_count": 69,
      "outputs": [
        {
          "output_type": "execute_result",
          "data": {
            "text/plain": [
              "([], -55)"
            ]
          },
          "metadata": {},
          "execution_count": 69
        }
      ]
    },
    {
      "cell_type": "markdown",
      "metadata": {
        "id": "cXtAVE5I3D7I"
      },
      "source": [
        "IMPLEMENTAÇÃO DO ALGORITMO GULOSO\n",
        "\n",
        "função h -> fome de q\n",
        "\n",
        "n -> n de variáveis\n",
        "\n",
        "c -> capacidade"
      ]
    },
    {
      "cell_type": "code",
      "metadata": {
        "id": "AVkoBOK_197w"
      },
      "source": [
        "def greedy_knapsack(h,n,c): \n",
        "  sol = [0 for i in range(n)] #primeira solucao preenchida com zeros\n",
        "  weight = 0 # monitora o peso pra não violarmos a restrição de capacidade\n",
        "  hs = [h(e) for e in range(n)] #agr construo um vetor pra armazenar o valor da funçao h. A cada iteração ele coloca o item que tem maior h possível\n",
        "  i=0\n",
        "\n",
        "  while i<n:\n",
        "    item = np.argmax(hs) #função argmax fala o indice que tem maior elemento\n",
        "    weight += w[item] #verifica o peso da mochila ao adicionar o item\n",
        "    if weight > c:\n",
        "      #estourou a capacidade\n",
        "      hs[item] = -np.inf #criado para q o item nao seja mais escolhido\n",
        "      weight -= w[item] # retiro o item da minha mochila\n",
        "    else:\n",
        "      sol[item] = 1 #não estourou, adiciona na mochila\n",
        "      hs[item] = -np.inf #não será mais escolhido, pois já está na mochila\n",
        "    \n",
        "    i+=1\n",
        "  return sol"
      ],
      "execution_count": 70,
      "outputs": []
    },
    {
      "cell_type": "code",
      "metadata": {
        "id": "4A0xu3E_5VOo"
      },
      "source": [
        "#definindo a função h, dando preferencia aos itens com maior lucro\n",
        "h= lambda e: p[e]"
      ],
      "execution_count": 71,
      "outputs": []
    },
    {
      "cell_type": "code",
      "metadata": {
        "id": "RH_wuWqU5on1",
        "colab": {
          "base_uri": "https://localhost:8080/"
        },
        "outputId": "0202af14-21e8-4f5c-f0be-df4e1a7c6ba8"
      },
      "source": [
        "sol = greedy_knapsack(h,n,c)\n",
        "sol\n",
        "print('{} P:{}'.format(sol,-fobj(sol)))"
      ],
      "execution_count": 72,
      "outputs": [
        {
          "output_type": "stream",
          "text": [
            "[1, 0, 0, 0, 0, 0] P:45\n"
          ],
          "name": "stdout"
        }
      ]
    },
    {
      "cell_type": "code",
      "metadata": {
        "id": "1loUSAsv5veS"
      },
      "source": [
        "#definindo a função h, dando preferencia aos itens de menor peso (entramos num problema de minimizacao)\n",
        "h= lambda e: -w[e]"
      ],
      "execution_count": 73,
      "outputs": []
    },
    {
      "cell_type": "code",
      "metadata": {
        "id": "bi9MJZ7R7Bp0",
        "colab": {
          "base_uri": "https://localhost:8080/"
        },
        "outputId": "3d5de88a-7c7d-4e1a-81f7-9f58b3a844f6"
      },
      "source": [
        "sol = greedy_knapsack(h,n,c)\n",
        "sol\n",
        "print('{} P:{}'.format(sol,-fobj(sol)))"
      ],
      "execution_count": 74,
      "outputs": [
        {
          "output_type": "stream",
          "text": [
            "[0, 0, 1, 1, 1, 1] P:34\n"
          ],
          "name": "stdout"
        }
      ]
    },
    {
      "cell_type": "markdown",
      "metadata": {
        "id": "BK3R3fv_7iqG"
      },
      "source": [
        "Como pudemos observar, dar preferencia aos itens de menor peso, fez com que eu pudesse colocar mais itens na mochila, no entanto o lucro foi menor, então pioramos a solução\n",
        "\n",
        "A melhor heurística seria a densidade de lucro (quanto maior o peso, menor é o lucro)"
      ]
    },
    {
      "cell_type": "code",
      "metadata": {
        "id": "zo88FwwX7Cw7",
        "colab": {
          "base_uri": "https://localhost:8080/"
        },
        "outputId": "9720247c-9919-4a73-e15b-de673eb496f8"
      },
      "source": [
        "h= lambda e: p[e]/w[e]\n",
        "sol = greedy_knapsack(h,n,c)\n",
        "sol\n",
        "print('{} P:{}'.format(sol,-fobj(sol)))"
      ],
      "execution_count": 75,
      "outputs": [
        {
          "output_type": "stream",
          "text": [
            "[0, 1, 0, 1, 1, 1] P:51\n"
          ],
          "name": "stdout"
        }
      ]
    },
    {
      "cell_type": "markdown",
      "metadata": {
        "id": "_8rWcAj_9XhO"
      },
      "source": [
        "QUando a gente usa um algoritmo gulosa, geralmente sobra pouco espaço pra melhorias e tem uma chance de ficarmos preso num mínimo local. COstumamos usar um algoritmo construtivo e um algoritmo de refinamento para convergir para um mínimo local. Quando fazemos isso, temos pouco espaço pra melhoria e podemos cair num minimo local, prematuramente. Para se precaver desse problema, Maurício Resende criou um algoritmo que pudesse ser introduzido uma aleatoriedade no algoritmo de refinamento para que tenha mais trabalho e encontre outras soluções."
      ]
    },
    {
      "cell_type": "code",
      "metadata": {
        "id": "Yx2f9fgJ9FVq"
      },
      "source": [
        "def grasp_knapsack(h,n,c, prob=0.4):\n",
        "  #prob é a probabilidade dele selecionar um aleatorio\n",
        "  sol = [0 for i in range(n)] \n",
        "  weight = 0\n",
        "  hs = [h(e) for e in range(n)]\n",
        "  i=0\n",
        "  #para executar esse algoritmo apenas 40% das vezes, \n",
        "  #vamos usar um gerador de numeros aleatorios com distribuiçao uniforme\n",
        "  while i<n:\n",
        "    if np.random.rand() <= prob:\n",
        "      item = np.argmax(hs) #se for menor que a probabilidade, entao executa o algoritmo guloso\n",
        "    else:\n",
        "      item = np.random.randint(n) #gera um numero aleatorio entre 0 e n-1, então vai gerar um item aleatório \n",
        "\n",
        " \n",
        "    weight += w[item] \n",
        "    if weight > c:\n",
        "      \n",
        "      hs[item] = -np.inf \n",
        "      weight -= w[item] \n",
        "    else:\n",
        "      sol[item] = 1 \n",
        "      hs[item] = -np.inf \n",
        "    \n",
        "    i+=1\n",
        "  return sol"
      ],
      "execution_count": 76,
      "outputs": []
    },
    {
      "cell_type": "code",
      "metadata": {
        "id": "ZRHYCBeV_jxQ",
        "colab": {
          "base_uri": "https://localhost:8080/"
        },
        "outputId": "0d859afa-9147-4a4f-d014-ad11d7a39926"
      },
      "source": [
        "h= lambda e: p[e]/w[e]\n",
        "sol = grasp_knapsack(h,n,c, .5)\n",
        "sol\n",
        "print('{} P:{}'.format(sol,-fobj(sol)))"
      ],
      "execution_count": 77,
      "outputs": [
        {
          "output_type": "stream",
          "text": [
            "[0, 0, 1, 1, 1, 0] P:32\n"
          ],
          "name": "stdout"
        }
      ]
    },
    {
      "cell_type": "markdown",
      "metadata": {
        "id": "caxjGCnrIstU"
      },
      "source": [
        "Até agora utilizamos o algoritmo guloso que é um método heuristico construtivo. O algoritmo guloso aleatoriezado também é construtivo. \n",
        "\n",
        "Para essa versão binária do problema da mochila com uma restrição simples de capacidade, usamos também uma heurística que é ótima: Algoritmo guloso baseado na densidade $p[e]/w[e]$\n",
        "\n",
        "Podemos usar o guloso randomizado para resolver o problema do caixeiro viajante:"
      ]
    },
    {
      "cell_type": "code",
      "metadata": {
        "colab": {
          "base_uri": "https://localhost:8080/",
          "height": 520
        },
        "id": "3Il6QjEI5rQl",
        "outputId": "2621152e-718c-4916-f95a-8680e20279e2"
      },
      "source": [
        "#definindo as cidades\n",
        "n = 15\n",
        "points = np.random.rand(n,2)\n",
        "print (points)\n",
        "for p in points:\n",
        "  plt.plot(p[0],p[1],'bo') #plot x and y using blue circle markers"
      ],
      "execution_count": 78,
      "outputs": [
        {
          "output_type": "stream",
          "text": [
            "[[0.42737737 0.28395491]\n",
            " [0.18701134 0.69425016]\n",
            " [0.33685861 0.12735015]\n",
            " [0.45338114 0.31886601]\n",
            " [0.44875732 0.30591065]\n",
            " [0.7639399  0.04774688]\n",
            " [0.05033175 0.75502083]\n",
            " [0.12522336 0.11729301]\n",
            " [0.87554853 0.84531546]\n",
            " [0.08555091 0.83800687]\n",
            " [0.7175992  0.20441996]\n",
            " [0.73457733 0.89298053]\n",
            " [0.95585612 0.26795402]\n",
            " [0.30481385 0.32156254]\n",
            " [0.04896688 0.68043265]]\n"
          ],
          "name": "stdout"
        },
        {
          "output_type": "display_data",
          "data": {
            "image/png": "[encoded data removed]",
            "text/plain": [
              "<Figure size 432x288 with 1 Axes>"
            ]
          },
          "metadata": {
            "needs_background": "light"
          }
        }
      ]
    },
    {
      "cell_type": "code",
      "metadata": {
        "colab": {
          "base_uri": "https://localhost:8080/"
        },
        "id": "vrxbVYPruJxw",
        "outputId": "bf5f295f-4a2c-4745-8fd6-185f21d9341f"
      },
      "source": [
        "\n",
        "dist_matrix = [[np.linalg.norm(np.array(p1)-np.array(p2)) for p1 in points] for p2 in points]\n",
        "dist_matrix"
      ],
      "execution_count": 79,
      "outputs": [
        {
          "output_type": "execute_result",
          "data": {
            "text/plain": [
              "[[0.0,\n",
              "  0.47551868576433864,\n",
              "  0.18088309752697154,\n",
              "  0.04353138345197651,\n",
              "  0.030645667056572522,\n",
              "  0.41117949047633967,\n",
              "  0.6033792318530867,\n",
              "  0.34506989727069765,\n",
              "  0.718319611464042,\n",
              "  0.651013748342453,\n",
              "  0.3009227851904562,\n",
              "  0.6821173095627304,\n",
              "  0.528720928066552,\n",
              "  0.12820354592218677,\n",
              "  0.5480776363234365],\n",
              " [0.47551868576433864,\n",
              "  0.0,\n",
              "  0.5863700423645725,\n",
              "  0.4602891812058806,\n",
              "  0.46831456319865383,\n",
              "  0.8664946958174978,\n",
              "  0.14958069649436817,\n",
              "  0.5802562438908546,\n",
              "  0.7049143071604695,\n",
              "  0.1759551363595463,\n",
              "  0.7221198674011988,\n",
              "  0.5825137504632972,\n",
              "  0.8791192663474917,\n",
              "  0.3908625046323335,\n",
              "  0.13873427346434802],\n",
              " [0.18088309752697154,\n",
              "  0.5863700423645725,\n",
              "  0.0,\n",
              "  0.22417810837027283,\n",
              "  0.210725348225463,\n",
              "  0.43443654154333916,\n",
              "  0.6899768993299813,\n",
              "  0.21187408456185047,\n",
              "  0.8975862172837601,\n",
              "  0.753782813858518,\n",
              "  0.38846255214666164,\n",
              "  0.8627688301577601,\n",
              "  0.634765597137766,\n",
              "  0.19683830202749775,\n",
              "  0.6235237745106057],\n",
              " [0.04353138345197651,\n",
              "  0.4602891812058806,\n",
              "  0.22417810837027283,\n",
              "  0.0,\n",
              "  0.01375576555905844,\n",
              "  0.41225274749858204,\n",
              "  0.5938685341547822,\n",
              "  0.38512232577599603,\n",
              "  0.674814293281332,\n",
              "  0.6362439065767118,\n",
              "  0.2879393737032916,\n",
              "  0.6392798892258318,\n",
              "  0.5050476547392335,\n",
              "  0.14859175992017662,\n",
              "  0.5424770309082049],\n",
              " [0.030645667056572522,\n",
              "  0.46831456319865383,\n",
              "  0.210725348225463,\n",
              "  0.01375576555905844,\n",
              "  0.0,\n",
              "  0.40741698022256884,\n",
              "  0.6003689552046164,\n",
              "  0.3745007845930783,\n",
              "  0.6878286784646436,\n",
              "  0.6442400775202423,\n",
              "  0.2873609586916738,\n",
              "  0.6529503205965161,\n",
              "  0.5085173554280703,\n",
              "  0.14479192984692948,\n",
              "  0.5478130340501515],\n",
              " [0.41117949047633967,\n",
              "  0.8664946958174978,\n",
              "  0.43443654154333916,\n",
              "  0.41225274749858204,\n",
              "  0.40741698022256884,\n",
              "  0.0,\n",
              "  1.004725352269321,\n",
              "  0.6424916264096451,\n",
              "  0.8053397650104294,\n",
              "  1.0415001084667006,\n",
              "  0.16338272764597975,\n",
              "  0.8457435102522113,\n",
              "  0.29210104939629555,\n",
              "  0.5345762295510642,\n",
              "  0.9547134163832702],\n",
              " [0.6033792318530867,\n",
              "  0.14958069649436817,\n",
              "  0.6899768993299813,\n",
              "  0.5938685341547822,\n",
              "  0.6003689552046164,\n",
              "  1.004725352269321,\n",
              "  0.0,\n",
              "  0.6421102092314878,\n",
              "  0.8301420659924202,\n",
              "  0.09015027348057554,\n",
              "  0.8651052929180361,\n",
              "  0.6980149655015249,\n",
              "  1.0282064239613993,\n",
              "  0.5026402595008486,\n",
              "  0.07460066989839638],\n",
              " [0.34506989727069765,\n",
              "  0.5802562438908546,\n",
              "  0.21187408456185047,\n",
              "  0.38512232577599603,\n",
              "  0.3745007845930783,\n",
              "  0.6424916264096451,\n",
              "  0.6421102092314878,\n",
              "  0.0,\n",
              "  1.04546858199602,\n",
              "  0.7218049356720484,\n",
              "  0.5987489050713592,\n",
              "  0.9864093421940849,\n",
              "  0.8441857191309075,\n",
              "  0.2719904117391226,\n",
              "  0.5682792427321116],\n",
              " [0.718319611464042,\n",
              "  0.7049143071604695,\n",
              "  0.8975862172837601,\n",
              "  0.674814293281332,\n",
              "  0.6878286784646436,\n",
              "  0.8053397650104294,\n",
              "  0.8301420659924202,\n",
              "  1.04546858199602,\n",
              "  0.0,\n",
              "  0.7900314249247872,\n",
              "  0.6600719915172553,\n",
              "  0.1488114130273087,\n",
              "  0.5829198399819259,\n",
              "  0.7746323018236041,\n",
              "  0.8428662830268734],\n",
              " [0.651013748342453,\n",
              "  0.1759551363595463,\n",
              "  0.753782813858518,\n",
              "  0.6362439065767118,\n",
              "  0.6442400775202423,\n",
              "  1.0415001084667006,\n",
              "  0.09015027348057554,\n",
              "  0.7218049356720484,\n",
              "  0.7900314249247872,\n",
              "  0.0,\n",
              "  0.8949398937732673,\n",
              "  0.6513504424475933,\n",
              "  1.040380410824898,\n",
              "  0.5610623720133564,\n",
              "  0.16176534558662387],\n",
              " [0.3009227851904562,\n",
              "  0.7221198674011988,\n",
              "  0.38846255214666164,\n",
              "  0.2879393737032916,\n",
              "  0.2873609586916738,\n",
              "  0.16338272764597975,\n",
              "  0.8651052929180361,\n",
              "  0.5987489050713592,\n",
              "  0.6600719915172553,\n",
              "  0.8949398937732673,\n",
              "  0.0,\n",
              "  0.6887698526553307,\n",
              "  0.2465825108526759,\n",
              "  0.4290852257467306,\n",
              "  0.8207662668075135],\n",
              " [0.6821173095627304,\n",
              "  0.5825137504632972,\n",
              "  0.8627688301577601,\n",
              "  0.6392798892258318,\n",
              "  0.6529503205965161,\n",
              "  0.8457435102522113,\n",
              "  0.6980149655015249,\n",
              "  0.9864093421940849,\n",
              "  0.1488114130273087,\n",
              "  0.6513504424475933,\n",
              "  0.6887698526553307,\n",
              "  0.0,\n",
              "  0.6630402930844287,\n",
              "  0.7149931270372859,\n",
              "  0.7178010157578204],\n",
              " [0.528720928066552,\n",
              "  0.8791192663474917,\n",
              "  0.634765597137766,\n",
              "  0.5050476547392335,\n",
              "  0.5085173554280703,\n",
              "  0.29210104939629555,\n",
              "  1.0282064239613993,\n",
              "  0.8441857191309075,\n",
              "  0.5829198399819259,\n",
              "  1.040380410824898,\n",
              "  0.2465825108526759,\n",
              "  0.6630402930844287,\n",
              "  0.0,\n",
              "  0.6532456718485087,\n",
              "  0.9962864597276525],\n",
              " [0.12820354592218677,\n",
              "  0.3908625046323335,\n",
              "  0.19683830202749775,\n",
              "  0.14859175992017662,\n",
              "  0.14479192984692948,\n",
              "  0.5345762295510642,\n",
              "  0.5026402595008486,\n",
              "  0.2719904117391226,\n",
              "  0.7746323018236041,\n",
              "  0.5610623720133564,\n",
              "  0.4290852257467306,\n",
              "  0.7149931270372859,\n",
              "  0.6532456718485087,\n",
              "  0.0,\n",
              "  0.4407328327842691],\n",
              " [0.5480776363234365,\n",
              "  0.13873427346434802,\n",
              "  0.6235237745106057,\n",
              "  0.5424770309082049,\n",
              "  0.5478130340501515,\n",
              "  0.9547134163832702,\n",
              "  0.07460066989839638,\n",
              "  0.5682792427321116,\n",
              "  0.8428662830268734,\n",
              "  0.16176534558662387,\n",
              "  0.8207662668075135,\n",
              "  0.7178010157578204,\n",
              "  0.9962864597276525,\n",
              "  0.4407328327842691,\n",
              "  0.0]]"
            ]
          },
          "metadata": {},
          "execution_count": 79
        }
      ]
    },
    {
      "cell_type": "code",
      "metadata": {
        "id": "_eL2PNS4ufBc"
      },
      "source": [
        "for i in range(len(dist_matrix)):\n",
        "  dist_matrix[i][i] = np.inf #a distancia de uma cidade para ela mesma vai ser infinita para ser ignorada na minimização\n",
        "\n",
        "n = len(points)\n",
        "V = set(range(len(points)))"
      ],
      "execution_count": 90,
      "outputs": []
    },
    {
      "cell_type": "code",
      "metadata": {
        "id": "09uG8onOTMys"
      },
      "source": [
        "model = Model()\n"
      ],
      "execution_count": 91,
      "outputs": []
    },
    {
      "cell_type": "code",
      "metadata": {
        "id": "Nt7hQ2juTOX3"
      },
      "source": [
        "x = [[model.add_var(var_type=BINARY) for j in V] for i in V]\n",
        "y = [model.add_var(var_type=INTEGER,lb=1,ub=n-1) for i in V]"
      ],
      "execution_count": 92,
      "outputs": []
    },
    {
      "cell_type": "code",
      "metadata": {
        "id": "RMHRkhuOTQNX"
      },
      "source": [
        "model.objective = minimize(xsum(dist_matrix[i][j]*x[i][j] for i in V for j in V))\n"
      ],
      "execution_count": 93,
      "outputs": []
    },
    {
      "cell_type": "code",
      "metadata": {
        "id": "zn45GCj0TR6H"
      },
      "source": [
        "for i in V:\n",
        "  model += xsum(x[i][j] for j in V - {i}) == 1 \n",
        "\n",
        "for j in V:\n",
        "  model += xsum(x[i][j] for i in V - {j}) == 1 \n",
        "\n",
        "for (i, j) in product(V - {0}, V - {0}):\n",
        "  if i!=j:\n",
        "    model += y[i] - y[j] + (n+1)*x[i][j] <= n"
      ],
      "execution_count": 94,
      "outputs": []
    },
    {
      "cell_type": "code",
      "metadata": {
        "id": "EN-RLyQCTUrJ"
      },
      "source": [
        "model.optimize()\n",
        "model.objective_value"
      ],
      "execution_count": 95,
      "outputs": []
    },
    {
      "cell_type": "code",
      "metadata": {
        "id": "vYTlWoMP8UHZ"
      },
      "source": [
        "# [0,1,2,3,4]\n",
        "def tsp_perm(x):\n",
        "  sum = 0\n",
        "  for i in range(len(x)):\n",
        "    sum += np.linalg.norm(points[x[i]] - points[x[(i+1)%len(x)]])\n",
        "\n",
        "  return sum"
      ],
      "execution_count": 82,
      "outputs": []
    },
    {
      "cell_type": "code",
      "metadata": {
        "id": "_3gXpBcFMo7H"
      },
      "source": [
        "def plot_perm(perm):\n",
        "  best_solution = perm\n",
        "  for i in range(len(best_solution)):\n",
        "    px = [points[best_solution[i]][0],points[best_solution[(i+1)%len(best_solution)]][0]]\n",
        "    py = [points[best_solution[i]][1],points[best_solution[(i+1)%len(best_solution)]][1]]\n",
        "  \n",
        "    plt.plot(px,py,'bo-')"
      ],
      "execution_count": 89,
      "outputs": []
    },
    {
      "cell_type": "code",
      "metadata": {
        "id": "r7W3FtDFMMZR"
      },
      "source": [
        "def greedy_randomized(n, dist_matrix, prob=1):\n",
        "  sol = [0] #vamos começar da cidade 0\n",
        "  #usaremos como heuristica a proximidade dos vizinhos\n",
        "  \n",
        "  for i in range(1,n):\n",
        "    cities = set(range(n)).difference(set(sol)) #subtração do conjunto de cidades, as cidades que já foram visitadas. Cities são as cidades disponíveis\n",
        "\n",
        "    if np.random.rand() <=prob: #executa o guloso\n",
        "      #para cada cidade disponível, precisamos ver as menores distâncias\n",
        "      closest_val = np.inf\n",
        "      closest_city = None\n",
        "      for c in cities:\n",
        "        dist = dist_matrix[sol[-1]][c] #a distancia da ultima cidade sol[-1] com a cidade c \n",
        "        if dist <= closest_val:\n",
        "          closest_val = dist #atualiza a distancia\n",
        "          closest_city = c #atualiza a cidade mais proxima\n",
        "      sol.append(closest_city)\n",
        "    \n",
        "    else:\n",
        "      sol.append(cities[np.random.randint(len(cities))])\n",
        "  return sol\n",
        "\n",
        "  \n"
      ],
      "execution_count": 87,
      "outputs": []
    },
    {
      "cell_type": "code",
      "metadata": {
        "colab": {
          "base_uri": "https://localhost:8080/"
        },
        "id": "LJNEfFw17ve4",
        "outputId": "e976b547-cb3c-4a63-a898-43eb241a9629"
      },
      "source": [
        "greedy = greedy_randomized(n,dist_matrix,prob=1)\n",
        "print('{}, {} , Model: {}'.format(greedy,tsp_perm(greedy),model.objective_value))"
      ],
      "execution_count": 88,
      "outputs": [
        {
          "output_type": "stream",
          "text": [
            "[0, 4, 3, 13, 2, 7, 14, 6, 9, 1, 11, 8, 12, 10, 5], 3.6460806340433125 , Model: None\n"
          ],
          "name": "stdout"
        }
      ]
    },
    {
      "cell_type": "code",
      "metadata": {
        "id": "MApS9vkTMX86"
      },
      "source": [
        "for i in range(len(x)):\n",
        "  for j in range(len(x)):\n",
        "    if x[i][j].x == 1:\n",
        "      plt.plot([points[i][0],points[j][0]],[points[i][1],points[j][1]],'bo-')"
      ],
      "execution_count": 86,
      "outputs": []
    },
    {
      "cell_type": "markdown",
      "metadata": {
        "id": "Tt_MzNolME3n"
      },
      "source": [
        "Agora vamos utilizar um algoritmo que seja uma heuristica de refinamento."
      ]
    },
    {
      "cell_type": "code",
      "metadata": {
        "id": "lAnw4c4AJbTK"
      },
      "source": [
        ""
      ],
      "execution_count": 44,
      "outputs": []
    }
  ]
}