{
  "nbformat": 4,
  "nbformat_minor": 0,
  "metadata": {
    "colab": {
      "name": "algoritmosGulosos.ipynb",
      "provenance": [],
      "authorship_tag": "ABX9TyO8neHiqkyFVLU4D8OYEeyF",
      "include_colab_link": true
    },
    "kernelspec": {
      "name": "python3",
      "display_name": "Python 3"
    },
    "language_info": {
      "name": "python"
    }
  },
  "cells": [
    {
      "cell_type": "markdown",
      "metadata": {
        "id": "view-in-github",
        "colab_type": "text"
      },
      "source": [
        "<a href=\"https://colab.research.google.com/github/tiagosardi/optimizationMethod/blob/main/algoritmosGulosos.ipynb\" target=\"_parent\"><img src=\"https://colab.research.google.com/assets/colab-badge.svg\" alt=\"Open In Colab\"/></a>"
      ]
    },
    {
      "cell_type": "code",
      "metadata": {
        "colab": {
          "base_uri": "https://localhost:8080/"
        },
        "id": "CTR67v_j1RbX",
        "outputId": "e984bf64-370f-4fcb-928a-52b8e2e2cde9"
      },
      "source": [
        "!git clone https://github.com/tiagosardi/optimizationMethod.git\n",
        "#import sys\n",
        "#sys.path.append('/content/optimizationMethod/')"
      ],
      "execution_count": 3,
      "outputs": [
        {
          "output_type": "stream",
          "text": [
            "Cloning into 'optimizationMethod'...\n",
            "remote: Enumerating objects: 43, done.\u001b[K\n",
            "remote: Counting objects: 100% (43/43), done.\u001b[K\n",
            "remote: Compressing objects: 100% (38/38), done.\u001b[K\n",
            "remote: Total 43 (delta 18), reused 14 (delta 4), pack-reused 0\u001b[K\n",
            "Unpacking objects: 100% (43/43), done.\n"
          ],
          "name": "stdout"
        }
      ]
    },
    {
      "cell_type": "markdown",
      "metadata": {
        "id": "ix8tV8MI1WLs"
      },
      "source": [
        "Na busca exaustiva ele gera todas as buscas possíveis e fica com a melhor. A vantagem da busca exautiva a gente garante que estamos na melhor solução. A desvantagem está no custo. Outra vantagem é a simplicidade (resolvemos o caixeiro viajante com busca exaustiva pois resolvemos com permutação, sem ciclos e sem restrição), então para problemas pequenos pode ser mais útil usar busca exaustiva. O problema é quando a instância vai crescendo e a busca exaustiva vai se distanciando do modelo mais adequado.\n",
        "\n",
        "Vamos usar métodos heurísticos desta vez. Heurística é um procedimento aproximado. Não tem garantia de encontrar o ótimo, mas encontraremos uma solução boa com mais rapidez. Existem dois tipos básicos de heurísticas: As construtivas e a heurísticas de refinamento.\n",
        "\n",
        "As construtivas servem pra gente construir uma solução boa. A rota inicial tem que ser melhor que a aleatória.\n",
        "\n",
        "Na heuristica de refinamento, nós refinamos uma solução que já temos. \n",
        "ENtão combinaremos os dois tipos. Primeiro vamos usar a construtiva e depois refinamento.\n",
        "\n",
        "A heuristica construtiva mais comum é o algoritmo guloso.\n",
        "\n",
        "Precisamos primeiro definir a gula desse algoritmo usando uma função h:Z -> R (a funçao mapeia numeros inteiros num numero real)\n",
        "\n",
        "Cada iteração o algoritmo escolhe um elemento pra adicionar a solução que tem o maior valor dessa heuristica possível.\n",
        "ENtão temos o método heuristico e a função heurística.\n",
        "A funçao vai definir qual a fome desse algoritmo. \n",
        "\n",
        "O PROBLEMA DA MOCHILA:\n",
        "(Knapsack problem)\n",
        "\n",
        "Nós temos um conjunto de itens I e para cada item nós temos um lucro P (profit) e temos um peso W (weight). \n",
        "Cada item que colocamos na mochila, traz um lucro ao ser vendido. Os itens tem pesos e a mochila tem um limite de peso, onde C é a capacidade da mochila.\n",
        "Precisamos maximizar o lucro e manter a capacidade.\n",
        "Vamos modelar esse problema como um problema de programação linear:\n",
        "\n",
        "Temos um vetor de pesos $\\bar{P}$ = [40,35,18,4,10,2] e um vetor de pesos $\\bar{W}$ = [100,50,45,20,10,5].\n",
        "Agora, para formular como problema de programação linear, vamos olhar para as variáveis que existem no problema. Não podemos mudar o peso dos itens, mas variamos em quais itens poderemos pegar:\n",
        "\n",
        "$ Xi \\in{\\{0,1\\}}$ -> indica se o item i está na mochila.\n",
        "\n",
        "$\\bar{x} = [0,0,1,0,1,0]$ Temos 6 itens, então um vetor com 6 posições, onde colocamos os itens 2 e 4 na mochila e os demais não foram adicionados a mochila.\n",
        "\n",
        "$$ max \\Sigma{Xi * Pi} $$\n",
        "$$ \\Sigma{Xi*Wi} <= C$$\n",
        "$$ Xi \\in{\\{0,1\\}} $$\n",
        "\n",
        "Resolvendo com o Python MIP"
      ]
    },
    {
      "cell_type": "code",
      "metadata": {
        "colab": {
          "base_uri": "https://localhost:8080/"
        },
        "id": "tYrO4xbI9Ag8",
        "outputId": "443d38ce-4b3a-4a0f-ad7f-bfd93f1aca7e"
      },
      "source": [
        "!pip install mip"
      ],
      "execution_count": 4,
      "outputs": [
        {
          "output_type": "stream",
          "text": [
            "Collecting mip\n",
            "  Downloading mip-1.13.0-py3-none-any.whl (48.0 MB)\n",
            "\u001b[K     |████████████████████████████████| 48.0 MB 50 kB/s \n",
            "\u001b[?25hRequirement already satisfied: cffi in /usr/local/lib/python3.7/dist-packages (from mip) (1.14.6)\n",
            "Requirement already satisfied: pycparser in /usr/local/lib/python3.7/dist-packages (from cffi->mip) (2.20)\n",
            "Installing collected packages: mip\n",
            "Successfully installed mip-1.13.0\n"
          ],
          "name": "stdout"
        }
      ]
    },
    {
      "cell_type": "code",
      "metadata": {
        "id": "rpzuqHm99Cu5"
      },
      "source": [
        "from mip import Model, xsum, maximize, BINARY\n",
        "\n",
        "p = [45,35,18,4,10,2]\n",
        "w = [100,50,45,20,10,5]\n",
        "c = 100\n",
        "n = len(p)"
      ],
      "execution_count": 5,
      "outputs": []
    },
    {
      "cell_type": "code",
      "metadata": {
        "id": "RB_kywgq9VMx"
      },
      "source": [
        "# vamos definir o modelo\n",
        "m = Model('Knapsack')\n"
      ],
      "execution_count": 6,
      "outputs": []
    },
    {
      "cell_type": "code",
      "metadata": {
        "id": "Ds55epAC9fVp"
      },
      "source": [
        "# para definir a funcao objetivo, precisamos das variaveis\n",
        "x = [m.add_var(var_type=BINARY) for i in range(n)] # as variaveis tem tipo binario\n",
        "\n",
        "#funcao objetivo\n",
        "m.objective= maximize(xsum(x[i]*p[i] for i in range(n)))\n",
        "\n",
        "#a unica restricao que temos\n",
        "m += xsum(x[i] *w[i] for i in range(n)) <= c\n"
      ],
      "execution_count": 7,
      "outputs": []
    },
    {
      "cell_type": "code",
      "metadata": {
        "colab": {
          "base_uri": "https://localhost:8080/"
        },
        "id": "51CLVyYA-Oba",
        "outputId": "6908c30c-ace4-4781-fb21-03fb2bded622"
      },
      "source": [
        "m.optimize() #otimiza e busca pela solucao otima"
      ],
      "execution_count": 8,
      "outputs": [
        {
          "output_type": "execute_result",
          "data": {
            "text/plain": [
              "<OptimizationStatus.OPTIMAL: 0>"
            ]
          },
          "metadata": {},
          "execution_count": 8
        }
      ]
    },
    {
      "cell_type": "markdown",
      "metadata": {
        "id": "6ziJdC0nH3i4"
      },
      "source": [
        "A python mip usa um método que não tem precisão infinita, então resolve com uma determinada precisão para o ótimo.\n"
      ]
    },
    {
      "cell_type": "code",
      "metadata": {
        "colab": {
          "base_uri": "https://localhost:8080/"
        },
        "id": "nvDIvgMDIki2",
        "outputId": "3679dbcd-fb82-4fc6-af73-457e565a0f8d"
      },
      "source": [
        "print([x[i].x for i in range(n)])"
      ],
      "execution_count": 9,
      "outputs": [
        {
          "output_type": "stream",
          "text": [
            "[0.0, 1.0, 1.0, 0.0, 0.0, 1.0]\n"
          ],
          "name": "stdout"
        }
      ]
    },
    {
      "cell_type": "code",
      "metadata": {
        "colab": {
          "base_uri": "https://localhost:8080/"
        },
        "id": "Rm61kJ3tH6CX",
        "outputId": "9f118a27-75af-473b-d33e-6b68a2926df9"
      },
      "source": [
        "#os itens que ele selecionou sao os itens que tem valor >=.99 \n",
        "# serve para resolver o problema da precisao da python mip para colocar valores reais\n",
        "\n",
        "selected = [i for i in range(n) if x[i].x >= .99]\n",
        "selected"
      ],
      "execution_count": 10,
      "outputs": [
        {
          "output_type": "execute_result",
          "data": {
            "text/plain": [
              "[1, 2, 5]"
            ]
          },
          "metadata": {},
          "execution_count": 10
        }
      ]
    },
    {
      "cell_type": "markdown",
      "metadata": {
        "id": "fepPuCtWI5TF"
      },
      "source": [
        "[1,2,5] é a solução ótima desse problema. \n",
        "\n",
        "Podemos resolver esse problema utilizando força bruta também (ver brute force no meu github).\n",
        "\n",
        "Para adicionar a restrição nesse caso, podemos fazer com que valores que infrinjam a restrição, se tornem as piores soluções, a assim possam ser ignoradas.\n",
        "\n"
      ]
    },
    {
      "cell_type": "code",
      "metadata": {
        "id": "xlhVRSD0HqdF"
      },
      "source": [
        "import numpy as np\n",
        "\n",
        "def brute_force(fobj,n,m,partial_solution=[], best_solution=[], best_val=np.inf, print_sol=False):\n",
        "  #np.inf = infinito\n",
        "  \n",
        "  \n",
        "  #comeca com criterio de parada\n",
        "  if len(partial_solution) ==n:\n",
        "    fx = fobj(partial_solution) #coloquei o valor da ultima variavel em fx\n",
        "    if print_sol:\n",
        "      print('{} : {}'.format(partial_solution, fx))\n",
        "    if fx <=best_val:\n",
        "      best_solution = partial_solution\n",
        "      best_val = fx\n",
        "    return best_solution, best_val\n",
        "  else:\n",
        "    for e in set(np.arange(m)): #transforma em conjunto a partir do set para usar operacoes de conjuntos e descontar as repeticoes, tornando o algoritmo em permutacao\n",
        "      best_sol, best_val = brute_force(fobj,n,m,partial_solution + [e], \n",
        "                  best_solution, \n",
        "                  best_val,\n",
        "                  print_sol)\n",
        "    return best_sol, best_val\n"
      ],
      "execution_count": 15,
      "outputs": []
    },
    {
      "cell_type": "code",
      "metadata": {
        "colab": {
          "base_uri": "https://localhost:8080/"
        },
        "id": "cqGZiZqVTA6X",
        "outputId": "6b0afda3-ec0e-4ca5-cb4a-4d9a408fb7ee"
      },
      "source": [
        "#se nao entrar em nenhuma condicao, entao vai lançar no infinito. Isso fará que condições que violem as restrições, sempre percam, indo para infinito\n",
        "#repare que uso -np.sum para utilizar como maximizacao, ja que o metodo usado é para minimizacao\n",
        "fobj = lambda x: -np.sum([x[i]*p[i] for i in range(n)]) if np.sum([x[i]*w[i] for i in range(n)]) <= c else np.inf\n",
        "best_solution,best_val = brute_force(fobj,n,2,print_sol=True)\n"
      ],
      "execution_count": 18,
      "outputs": [
        {
          "output_type": "stream",
          "text": [
            "[0, 0, 0, 0, 0, 0] : 0\n",
            "[0, 0, 0, 0, 0, 1] : -2\n",
            "[0, 0, 0, 0, 1, 0] : -10\n",
            "[0, 0, 0, 0, 1, 1] : -12\n",
            "[0, 0, 0, 1, 0, 0] : -4\n",
            "[0, 0, 0, 1, 0, 1] : -6\n",
            "[0, 0, 0, 1, 1, 0] : -14\n",
            "[0, 0, 0, 1, 1, 1] : -16\n",
            "[0, 0, 1, 0, 0, 0] : -18\n",
            "[0, 0, 1, 0, 0, 1] : -20\n",
            "[0, 0, 1, 0, 1, 0] : -28\n",
            "[0, 0, 1, 0, 1, 1] : -30\n",
            "[0, 0, 1, 1, 0, 0] : -22\n",
            "[0, 0, 1, 1, 0, 1] : -24\n",
            "[0, 0, 1, 1, 1, 0] : -32\n",
            "[0, 0, 1, 1, 1, 1] : -34\n",
            "[0, 1, 0, 0, 0, 0] : -35\n",
            "[0, 1, 0, 0, 0, 1] : -37\n",
            "[0, 1, 0, 0, 1, 0] : -45\n",
            "[0, 1, 0, 0, 1, 1] : -47\n",
            "[0, 1, 0, 1, 0, 0] : -39\n",
            "[0, 1, 0, 1, 0, 1] : -41\n",
            "[0, 1, 0, 1, 1, 0] : -49\n",
            "[0, 1, 0, 1, 1, 1] : -51\n",
            "[0, 1, 1, 0, 0, 0] : -53\n",
            "[0, 1, 1, 0, 0, 1] : -55\n",
            "[0, 1, 1, 0, 1, 0] : inf\n",
            "[0, 1, 1, 0, 1, 1] : inf\n",
            "[0, 1, 1, 1, 0, 0] : inf\n",
            "[0, 1, 1, 1, 0, 1] : inf\n",
            "[0, 1, 1, 1, 1, 0] : inf\n",
            "[0, 1, 1, 1, 1, 1] : inf\n",
            "[1, 0, 0, 0, 0, 0] : -45\n",
            "[1, 0, 0, 0, 0, 1] : inf\n",
            "[1, 0, 0, 0, 1, 0] : inf\n",
            "[1, 0, 0, 0, 1, 1] : inf\n",
            "[1, 0, 0, 1, 0, 0] : inf\n",
            "[1, 0, 0, 1, 0, 1] : inf\n",
            "[1, 0, 0, 1, 1, 0] : inf\n",
            "[1, 0, 0, 1, 1, 1] : inf\n",
            "[1, 0, 1, 0, 0, 0] : inf\n",
            "[1, 0, 1, 0, 0, 1] : inf\n",
            "[1, 0, 1, 0, 1, 0] : inf\n",
            "[1, 0, 1, 0, 1, 1] : inf\n",
            "[1, 0, 1, 1, 0, 0] : inf\n",
            "[1, 0, 1, 1, 0, 1] : inf\n",
            "[1, 0, 1, 1, 1, 0] : inf\n",
            "[1, 0, 1, 1, 1, 1] : inf\n",
            "[1, 1, 0, 0, 0, 0] : inf\n",
            "[1, 1, 0, 0, 0, 1] : inf\n",
            "[1, 1, 0, 0, 1, 0] : inf\n",
            "[1, 1, 0, 0, 1, 1] : inf\n",
            "[1, 1, 0, 1, 0, 0] : inf\n",
            "[1, 1, 0, 1, 0, 1] : inf\n",
            "[1, 1, 0, 1, 1, 0] : inf\n",
            "[1, 1, 0, 1, 1, 1] : inf\n",
            "[1, 1, 1, 0, 0, 0] : inf\n",
            "[1, 1, 1, 0, 0, 1] : inf\n",
            "[1, 1, 1, 0, 1, 0] : inf\n",
            "[1, 1, 1, 0, 1, 1] : inf\n",
            "[1, 1, 1, 1, 0, 0] : inf\n",
            "[1, 1, 1, 1, 0, 1] : inf\n",
            "[1, 1, 1, 1, 1, 0] : inf\n",
            "[1, 1, 1, 1, 1, 1] : inf\n"
          ],
          "name": "stdout"
        }
      ]
    },
    {
      "cell_type": "code",
      "metadata": {
        "colab": {
          "base_uri": "https://localhost:8080/"
        },
        "id": "sbZ4-xwXUbgv",
        "outputId": "664c7747-3da3-4733-ca64-cba7b07b3add"
      },
      "source": [
        "best_solution, best_val\n",
        "#a melhor solução tem o lucro de 55"
      ],
      "execution_count": 20,
      "outputs": [
        {
          "output_type": "execute_result",
          "data": {
            "text/plain": [
              "([], -55)"
            ]
          },
          "metadata": {},
          "execution_count": 20
        }
      ]
    },
    {
      "cell_type": "code",
      "metadata": {
        "id": "AVkoBOK_197w"
      },
      "source": [
        ""
      ],
      "execution_count": null,
      "outputs": []
    }
  ]
}