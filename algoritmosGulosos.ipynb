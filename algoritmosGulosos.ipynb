{
  "nbformat": 4,
  "nbformat_minor": 0,
  "metadata": {
    "colab": {
      "name": "algoritmosGulosos.ipynb",
      "provenance": [],
      "authorship_tag": "ABX9TyMP7FcNp5bXtfPjxjAzyfRE",
      "include_colab_link": true
    },
    "kernelspec": {
      "name": "python3",
      "display_name": "Python 3"
    },
    "language_info": {
      "name": "python"
    }
  },
  "cells": [
    {
      "cell_type": "markdown",
      "metadata": {
        "id": "view-in-github",
        "colab_type": "text"
      },
      "source": [
        "<a href=\"https://colab.research.google.com/github/tiagosardi/optimizationMethod/blob/main/algoritmosGulosos.ipynb\" target=\"_parent\"><img src=\"https://colab.research.google.com/assets/colab-badge.svg\" alt=\"Open In Colab\"/></a>"
      ]
    },
    {
      "cell_type": "code",
      "metadata": {
        "id": "CTR67v_j1RbX"
      },
      "source": [
        ""
      ],
      "execution_count": null,
      "outputs": []
    },
    {
      "cell_type": "code",
      "metadata": {
        "id": "OwtXbMJB1V8J"
      },
      "source": [
        ""
      ],
      "execution_count": null,
      "outputs": []
    },
    {
      "cell_type": "markdown",
      "metadata": {
        "id": "ix8tV8MI1WLs"
      },
      "source": [
        "Na busca exaustiva ele gera todas as buscas possíveis e fica com a melhor. A vantagem da busca exautiva a gente garante que estamos na melhor solução. A desvantagem está no custo. Outra vantagem é a simplicidade (resolvemos o caixeiro viajante com busca exaustiva pois resolvemos com permutação, sem ciclos e sem restrição), então para problemas pequenos pode ser mais útil usar busca exaustiva. O problema é quando a instância vai crescendo e a busca exaustiva vai se distanciando do modelo mais adequado.\n",
        "\n",
        "Vamos usar métodos heurísticos desta vez. Heurística é um procedimento aproximado. Não tem garantia de encontrar o ótimo, mas encontraremos uma solução boa com mais rapidez. Existem dois tipos básicos de heurísticas: As construtivas e a heurísticas de refinamento.\n",
        "\n",
        "As construtivas servem pra gente construir uma solução boa. A rota inicial tem que ser melhor que a aleatória.\n",
        "\n",
        "Na heuristica de refinamento, nós refinamos uma solução que já temos. \n",
        "ENtão combinaremos os dois tipos. Primeiro vamos usar a construtiva e depois refinamento.\n",
        "\n",
        "A heuristica construtiva mais comum é o algoritmo guloso.\n",
        "\n",
        "Precisamos primeiro definir a gula desse algoritmo usando uma função h:Z -> R (a funçao mapeia numeros inteiros num numero real)\n",
        "\n",
        "Cada iteração o algoritmo escolhe um elemento pra adicionar a solução que tem o maior valor dessa heuristica possível.\n",
        "ENtão temos o método heuristico e a função heurística.\n",
        "A funçao vai definir qual a fome desse algoritmo. \n",
        "\n",
        "O PROBLEMA DA MOCHILA:\n",
        "(Knapsack problem)\n",
        "\n",
        "Nós temos um conjunto de itens I e para cada item nós temos um lucro P (profit) e temos um peso W (weight). \n",
        "Cada item que colocamos na mochila, traz um lucro ao ser vendido. Os itens tem pesos e a mochila tem um limite de peso, onde C é a capacidade da mochila.\n",
        "Precisamos maximizar o lucro e manter a capacidade.\n",
        "Vamos modelar esse problema como um problema de programação linear:\n",
        "\n",
        "Temos um vetor de pesos $\\bar{P}$ = [40,35,18,4,10,2] e um vetor de pesos $\\bar{W}$ = [100,50,45,20,10,5].\n",
        "Agora, para formular como problema de programação linear, vamos olhar para as variáveis que existem no problema. Não podemos mudar o peso dos itens, mas variamos em quais itens poderemos pegar:\n",
        "\n",
        "$ Xi \\in{\\{0,1\\}}$ -> indica se o item i está na mochila.\n",
        "\n",
        "$\\bar{x} = [0,0,1,0,1,0]$ Temos 6 itens, então um vetor com 6 posições, onde colocamos os itens 2 e 4 na mochila e os demais não foram adicionados a mochila.\n",
        "\n",
        "$$ max \\Sigma{Xi * Pi} $$\n",
        "$$ \\Sigma{Xi*Wi} <= C$$\n",
        "$$ Xi \\in{\\{0,1\\}} $$\n",
        "\n",
        "Resolvendo com o Python MIP"
      ]
    },
    {
      "cell_type": "code",
      "metadata": {
        "colab": {
          "base_uri": "https://localhost:8080/"
        },
        "id": "tYrO4xbI9Ag8",
        "outputId": "f9105b42-12ac-4614-a772-866862d708af"
      },
      "source": [
        "!pip install mip"
      ],
      "execution_count": 1,
      "outputs": [
        {
          "output_type": "stream",
          "text": [
            "Collecting mip\n",
            "  Downloading mip-1.13.0-py3-none-any.whl (48.0 MB)\n",
            "\u001b[K     |████████████████████████████████| 48.0 MB 48 kB/s \n",
            "\u001b[?25hRequirement already satisfied: cffi in /usr/local/lib/python3.7/dist-packages (from mip) (1.14.6)\n",
            "Requirement already satisfied: pycparser in /usr/local/lib/python3.7/dist-packages (from cffi->mip) (2.20)\n",
            "Installing collected packages: mip\n",
            "Successfully installed mip-1.13.0\n"
          ],
          "name": "stdout"
        }
      ]
    },
    {
      "cell_type": "code",
      "metadata": {
        "id": "rpzuqHm99Cu5"
      },
      "source": [
        "from mip import Model, xsum, maximize, BINARY\n",
        "\n",
        "p = [45,35,18,4,10,2]\n",
        "w = [100,50,45,20,10,5]\n",
        "c = 100\n",
        "n = len(p)"
      ],
      "execution_count": 2,
      "outputs": []
    },
    {
      "cell_type": "code",
      "metadata": {
        "id": "RB_kywgq9VMx"
      },
      "source": [
        "# vamos definir o modelo\n",
        "m = Model('Knapsack')\n"
      ],
      "execution_count": 4,
      "outputs": []
    },
    {
      "cell_type": "code",
      "metadata": {
        "id": "Ds55epAC9fVp"
      },
      "source": [
        "# para definir a funcao objetivo, precisamos das variaveis\n",
        "x = [m.add_var(var_type=BINARY) for i in range(n)] # as variaveis tem tipo binario\n",
        "\n",
        "#funcao objetivo\n",
        "m.objective= maximize(xsum(x[i]*p[i] for i in range(n)))\n",
        "\n",
        "#a unica restricao que temos\n",
        "m += xsum(x[i] *w[i] for i in range(n)) <= c\n"
      ],
      "execution_count": 6,
      "outputs": []
    },
    {
      "cell_type": "code",
      "metadata": {
        "id": "51CLVyYA-Oba"
      },
      "source": [
        "m.optimize()"
      ],
      "execution_count": null,
      "outputs": []
    }
  ]
}