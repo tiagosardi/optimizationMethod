{
  "nbformat": 4,
  "nbformat_minor": 0,
  "metadata": {
    "colab": {
      "name": "branchAndBound.ipynb",
      "provenance": [],
      "authorship_tag": "ABX9TyPrd8Qvy69efgwxG7EmtpB3",
      "include_colab_link": true
    },
    "kernelspec": {
      "name": "python3",
      "display_name": "Python 3"
    },
    "language_info": {
      "name": "python"
    }
  },
  "cells": [
    {
      "cell_type": "markdown",
      "metadata": {
        "id": "view-in-github",
        "colab_type": "text"
      },
      "source": [
        "<a href=\"https://colab.research.google.com/github/tiagosardi/optimizationMethod/blob/main/branchAndBound.ipynb\" target=\"_parent\"><img src=\"https://colab.research.google.com/assets/colab-badge.svg\" alt=\"Open In Colab\"/></a>"
      ]
    },
    {
      "cell_type": "markdown",
      "metadata": {
        "id": "_lPnkq8XIm_R"
      },
      "source": [
        "#Branch and Bound\n",
        "\n",
        "Branch and bound serve para qualquer problema com variáveis inteiras (podendo ser linear ou não)\n",
        "\n",
        "Fará uma avaliação de todas as possibilidades de melhor vizinho. Ao perceber que o custo de uma vizinha já excede o custo de algum vizinho já avaliado, o algoritmo desconsidera este caminho, sem precisar continuar o percurso.\n",
        "\n",
        "Bound -> Limite (melhor custo)\n",
        "\n",
        "f($\\bar{x}$) = c(x) + h (custo + função heuristica)\n",
        "\n",
        "a função h vai estimar o melhor caso (pode inicialmente ser 0)\n",
        "\n",
        "Em programação linear, a melhor forma de calcular o bound é resolver o simplex relaxado, pois não tem a restrição integralidade (que força q as variaveis sejam inteiras). Então podemos fixar as variáveis e resolvemos o simplex que vai encontrar valores quebrados, mas aproximados.\n",
        "\n",
        "O branch and bound é parecido com o brute force com permutação, só que é mais aprimorado."
      ]
    },
    {
      "cell_type": "code",
      "metadata": {
        "id": "GbggoEqAOMDi"
      },
      "source": [
        "!pip install mip\n"
      ],
      "execution_count": null,
      "outputs": []
    },
    {
      "cell_type": "markdown",
      "metadata": {
        "id": "SQkKUmEHOZL7"
      },
      "source": [
        "# Problem Setup"
      ]
    },
    {
      "cell_type": "code",
      "metadata": {
        "id": "9R1UQnQpIg9W"
      },
      "source": [
        "import matplotlib.pyplot as plt\n",
        "import numpy as np\n",
        "from itertools import product\n",
        "from sys import stdout as out\n",
        "from mip import Model, xsum, minimize, BINARY, INTEGER"
      ],
      "execution_count": null,
      "outputs": []
    },
    {
      "cell_type": "code",
      "metadata": {
        "id": "ZRcaynkMOErD"
      },
      "source": [
        "n = 15\n",
        "points = np.random.rand(n,2)\n",
        "\n",
        "for p in points:\n",
        "  plt.plot(p[0],p[1],'bo')"
      ],
      "execution_count": null,
      "outputs": []
    },
    {
      "cell_type": "code",
      "metadata": {
        "id": "sgR8f9U9OQjU"
      },
      "source": [
        "dist_matrix = [[np.linalg.norm(np.array(p1)-np.array(p2)) for p1 in points] for p2 in points]\n"
      ],
      "execution_count": null,
      "outputs": []
    },
    {
      "cell_type": "code",
      "metadata": {
        "id": "Cm6xDJM5ORTo"
      },
      "source": [
        "n = len(points)\n",
        "V = set(range(len(points)))"
      ],
      "execution_count": null,
      "outputs": []
    },
    {
      "cell_type": "markdown",
      "metadata": {
        "id": "1XXFpRTBOek5"
      },
      "source": [
        "#Python MIP"
      ]
    },
    {
      "cell_type": "code",
      "metadata": {
        "id": "tMSEEe9jOTZl"
      },
      "source": [
        "model = Model()\n"
      ],
      "execution_count": null,
      "outputs": []
    },
    {
      "cell_type": "code",
      "metadata": {
        "id": "O7LcLNrjOhbD"
      },
      "source": [
        "x = [[model.add_var(var_type=BINARY) for j in V] for i in V]\n",
        "y = [model.add_var(var_type=INTEGER,lb=1,ub=n-1) for i in V]"
      ],
      "execution_count": null,
      "outputs": []
    },
    {
      "cell_type": "code",
      "metadata": {
        "id": "O8RhM4sPOjLG"
      },
      "source": [
        "model.objective = minimize(xsum(dist_matrix[i][j]*x[i][j] for i in V for j in V))\n"
      ],
      "execution_count": null,
      "outputs": []
    },
    {
      "cell_type": "code",
      "metadata": {
        "id": "Vus7kztNOkLQ"
      },
      "source": [
        "for i in V:\n",
        "  model += xsum(x[i][j] for j in V - {i}) == 1 \n",
        "\n",
        "for j in V:\n",
        "  model += xsum(x[i][j] for i in V - {j}) == 1 \n",
        "\n",
        "for (i, j) in product(V - {0}, V - {0}):\n",
        "  if i!=j:\n",
        "    model += y[i] - y[j] + (n+1)*x[i][j] <= n"
      ],
      "execution_count": null,
      "outputs": []
    },
    {
      "cell_type": "code",
      "metadata": {
        "id": "uoue6iixOlcJ"
      },
      "source": [
        "model.optimize()\n",
        "model.objective_value"
      ],
      "execution_count": null,
      "outputs": []
    },
    {
      "cell_type": "code",
      "metadata": {
        "id": "BUttdVdwOmmv"
      },
      "source": [
        "for row in x:\n",
        "  vals = [e.x for e in row]\n",
        "  print(vals)"
      ],
      "execution_count": null,
      "outputs": []
    },
    {
      "cell_type": "code",
      "metadata": {
        "id": "Z0Br92hFOnrd"
      },
      "source": [
        "\n",
        "for i in range(len(x)):\n",
        "  for j in range(len(x)):\n",
        "    if x[i][j].x == 1:\n",
        "      plt.plot([points[i][0],points[j][0]],[points[i][1],points[j][1]],'bo-')"
      ],
      "execution_count": null,
      "outputs": []
    },
    {
      "cell_type": "code",
      "metadata": {
        "id": "LTl-qQ4tobqo"
      },
      "source": [
        "\n",
        "# [0,1,2,3,4]\n",
        "def tsp_perm(x):\n",
        "  sum = 0\n",
        "  for i in range(len(x)):\n",
        "    sum += np.linalg.norm(points[x[i]] - points[x[(i+1)%len(x)]])\n",
        "\n",
        "  return sum"
      ],
      "execution_count": null,
      "outputs": []
    },
    {
      "cell_type": "code",
      "metadata": {
        "id": "JgbKd0GVi12V"
      },
      "source": [
        "def h(cities_to_visit): #recebe o numero de cidades q tá faltando\n",
        "  return cities_to_visit*np.min(dist_matrix) #multiplica pela menor distancia possivel (constada na matriz)"
      ],
      "execution_count": null,
      "outputs": []
    },
    {
      "cell_type": "code",
      "metadata": {
        "id": "kDmosnykOqPK"
      },
      "source": [
        "\n",
        "def branch_and_bound_perm(fobj,n,partial_solution=[],best_solution=[],best_val=np.inf,print_sol=False, h=lambda x:0,count=0):\n",
        "\n",
        "  if len(partial_solution) == n: #se a solução estiver completa (condição de parada)\n",
        "    \n",
        "    fx = fobj(partial_solution) #ele avalia a solução\n",
        "    \n",
        "    \n",
        "\n",
        "    if fx <= best_val: #se temos uma nova melhor solução\n",
        "      if print_sol:\n",
        "        print('{} : {}'.format(partial_solution,fx))\n",
        "        best_solution = partial_solution #substitui a melhor solução\n",
        "        best_val = fx # substitui o melhor valor  \n",
        "\n",
        "    return best_solution,best_val,count\n",
        "  \n",
        "  else: # se a solução ainda não estiver completa\n",
        "    for e in set(np.arange(n)).difference(set(partial_solution)): #para cada elemento disponível no domínio (cidade faltando add)\n",
        "      count+= 1\n",
        "      #inicio do trecho que diferencia o branch and bound do brute force\n",
        "      cost = fobj(partial_solution + [e]) #a função obj vai pegar o vetor de cidades e calcula as distancias entre as cidades\n",
        "      if cost+h(n-len(partial_solution)) <= best_val: #best_val é meu bound. Repare que ele vai ignorar caminhos que já estouraram o custo quando analisado com o melhor valor\n",
        "        # h(n-len(partial_solution) pega as cidades q estão faltando\n",
        "        #chama recursivamente, adicionando a cidade nova na solução parcial que temos atualmente\n",
        "        best_solution,best_val,count = branch_and_bound_perm(fobj,n,partial_solution + [e], \n",
        "                  best_solution,\n",
        "                  best_val,\n",
        "                  print_sol,\n",
        "                  h,count)\n",
        "    \n",
        "    return best_solution,best_val, count"
      ],
      "execution_count": null,
      "outputs": []
    },
    {
      "cell_type": "code",
      "metadata": {
        "id": "W9PlwpZ8OtKv"
      },
      "source": [
        "\n",
        "# a função objetivo será o tsp_perm\n",
        "best_solution,best_val, count = branch_and_bound_perm(tsp_perm,n, h=h)"
      ],
      "execution_count": null,
      "outputs": []
    },
    {
      "cell_type": "code",
      "metadata": {
        "id": "uFU3XBsqmFH1"
      },
      "source": [
        "best_solution,best_val, count "
      ],
      "execution_count": null,
      "outputs": []
    }
  ]
}