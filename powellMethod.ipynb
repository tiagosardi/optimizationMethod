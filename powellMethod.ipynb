{
  "nbformat": 4,
  "nbformat_minor": 0,
  "metadata": {
    "colab": {
      "name": "powellMethod.ipynb",
      "provenance": [],
      "authorship_tag": "ABX9TyPPu4OzwRwHymthgvo2pmK0",
      "include_colab_link": true
    },
    "kernelspec": {
      "name": "python3",
      "display_name": "Python 3"
    },
    "language_info": {
      "name": "python"
    }
  },
  "cells": [
    {
      "cell_type": "markdown",
      "metadata": {
        "id": "view-in-github",
        "colab_type": "text"
      },
      "source": [
        "<a href=\"https://colab.research.google.com/github/tiagosardi/optimizationMethod/blob/main/powellMethod.ipynb\" target=\"_parent\"><img src=\"https://colab.research.google.com/assets/colab-badge.svg\" alt=\"Open In Colab\"/></a>"
      ]
    },
    {
      "cell_type": "markdown",
      "metadata": {
        "id": "mspZLs7eJyKw"
      },
      "source": [
        "Método Powell é um método direto que identifica um vetor diagonal que acelera o processo de chegada ao mínimo local."
      ]
    },
    {
      "cell_type": "code",
      "metadata": {
        "colab": {
          "base_uri": "https://localhost:8080/"
        },
        "id": "KLRsaqmHIU8x",
        "outputId": "1cb992a1-5c03-48bc-d7fa-56b41a58afeb"
      },
      "source": [
        "!git clone https://github.com/tiagosardi/optimizationMethod.git"
      ],
      "execution_count": 10,
      "outputs": [
        {
          "output_type": "stream",
          "text": [
            "fatal: destination path 'optimizationMethod' already exists and is not an empty directory.\n"
          ],
          "name": "stdout"
        }
      ]
    },
    {
      "cell_type": "code",
      "metadata": {
        "id": "jWerWldiGw-I"
      },
      "source": [
        "import sys\n",
        "sys.path.append('/content/optimizationMethod/')\n",
        "from os import name\n",
        "import numpy as np\n",
        "import aproximacaoQuadratica as ls"
      ],
      "execution_count": 11,
      "outputs": []
    },
    {
      "cell_type": "code",
      "metadata": {
        "id": "1kc3upsTGuV1"
      },
      "source": [
        "def powell(x,f,tol=1e-6,line_search=ls.quadratic_fit_search):\n",
        "\n",
        "    lx = [x]\n",
        "    lfx = [f(x)]\n",
        "    directions = []\n",
        "\n",
        "    for i in range(len(x)):\n",
        "        directions.append(np.zeros(len(x)))\n",
        "        directions[i][i] = 1\n",
        "\n",
        "    s = directions[-1]\n",
        "    alpha = perform_line_search(x,f,s,line_search,tol)\n",
        "    x = x + alpha*s\n",
        "\n",
        "    lx.append(x)\n",
        "    lfx.append(f(x))\n",
        "\n",
        "    while np.linalg.norm(s) > tol:\n",
        "\n",
        "        z = x\n",
        "        i = 0\n",
        "\n",
        "        while i < len(x) and np.linalg.norm(s) > tol:\n",
        "            \n",
        "            s = directions[i]\n",
        "            alpha = perform_line_search(x,f,s,line_search,tol)\n",
        "            x = x + alpha*directions[i]\n",
        "\n",
        "            lx.append(x)\n",
        "            lfx.append(f(x))\n",
        "\n",
        "            i = i+1\n",
        "\n",
        "        s = x - z\n",
        "        alpha = perform_line_search(x,f,s,line_search,tol)\n",
        "        x = x + alpha*s\n",
        "\n",
        "        lx.append(x)\n",
        "        lfx.append(f(x))\n",
        "\n",
        "        directions.pop(0)\n",
        "        directions.append(s)\n",
        "\n",
        "    return x,f(x),lx,lfx\n"
      ],
      "execution_count": 12,
      "outputs": []
    },
    {
      "cell_type": "code",
      "metadata": {
        "id": "GLH_n2pHI5PK"
      },
      "source": [
        ""
      ],
      "execution_count": null,
      "outputs": []
    }
  ]
}